{
 "cells": [
  {
   "cell_type": "code",
   "execution_count": 19,
   "metadata": {},
   "outputs": [
    {
     "name": "stdout",
     "output_type": "stream",
     "text": [
      "[[1 2 3 4]\n",
      " [5 6 7 8]]\n",
      "a    1\n",
      "b    2\n",
      "c    5\n",
      "d    6\n",
      "e    7\n",
      "dtype: int64\n",
      "    nama  umur\n",
      "0  bagas    25\n",
      "1  tegar    23\n",
      "2  abram    18\n"
     ]
    }
   ],
   "source": [
    "import numpy as np\n",
    "import pandas\n",
    "\n",
    "np_array = np.array([[1,2,3,4],[5,6,7,8]])\n",
    "\n",
    "print(np_array)\n",
    "\n",
    "\n",
    "# dimension\n",
    "np_array.ndim\n",
    "\n",
    "# shape\n",
    "np_array.shape\n",
    "\n",
    "# type\n",
    "np_array.dtype\n",
    "\n",
    "# itemsize\n",
    "np_array.itemsize\n",
    "\n",
    "#nbytes\n",
    "np_array.nbytes\n",
    "\n",
    "# pandas series\n",
    "\n",
    "list_ = [1,2,5,6,7]\n",
    "pandas_series = pandas.Series(data=list_, index=['a','b', 'c', 'd', 'e'])\n",
    "print(pandas_series)\n",
    "\n",
    "\n",
    "pandas_dataframe = pandas.DataFrame({'nama' : [\"bagas\", \"tegar\", \"abram\"], 'umur': [25, 23, 18]})\n",
    "print(pandas_dataframe)\n",
    "\n"
   ]
  }
 ],
 "metadata": {
  "kernelspec": {
   "display_name": "Python 3.8.15 64-bit",
   "language": "python",
   "name": "python3"
  },
  "language_info": {
   "codemirror_mode": {
    "name": "ipython",
    "version": 3
   },
   "file_extension": ".py",
   "mimetype": "text/x-python",
   "name": "python",
   "nbconvert_exporter": "python",
   "pygments_lexer": "ipython3",
   "version": "3.8.15"
  },
  "orig_nbformat": 4,
  "vscode": {
   "interpreter": {
    "hash": "b332bee1bdf7e3c17a182bc2627a7e449fad881a03115aa78f81cf97d7553709"
   }
  }
 },
 "nbformat": 4,
 "nbformat_minor": 2
}

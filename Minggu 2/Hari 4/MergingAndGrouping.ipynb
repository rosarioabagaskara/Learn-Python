{
 "cells": [
  {
   "cell_type": "markdown",
   "metadata": {},
   "source": [
    "# Data Merging"
   ]
  },
  {
   "cell_type": "code",
   "execution_count": 15,
   "metadata": {},
   "outputs": [
    {
     "name": "stdout",
     "output_type": "stream",
     "text": [
      "   id_siswa Kelas  Nilai  Peringkat\n",
      "0      A001   12A    100          1\n",
      "1      A002   12B     98          2\n",
      "2      A003   12C     96          3\n",
      "3      A004   12D     95          4\n",
      "4      A005   12E     90          5\n",
      "5      A006   12F     88          6\n",
      "6      A007   12G     86          7\n",
      "7      A008   12H     85          8\n",
      "8      A009   12I     80          9\n",
      "9      A010   12J     75         10\n",
      "10     A011   12K     73         11\n",
      "11     A012   12L     70         12\n",
      "   id_siswa Kelas  Nilai  Peringkat id_siswa Kelas  Nilai  Peringkat id_siswa  \\\n",
      "0      A001   12A  100.0        1.0      NaN   NaN    NaN        NaN      NaN   \n",
      "1      A002   12B   98.0        2.0      NaN   NaN    NaN        NaN      NaN   \n",
      "2      A003   12C   96.0        3.0      NaN   NaN    NaN        NaN      NaN   \n",
      "3      A004   12D   95.0        4.0      NaN   NaN    NaN        NaN      NaN   \n",
      "4       NaN   NaN    NaN        NaN     A005   12E   90.0        5.0      NaN   \n",
      "5       NaN   NaN    NaN        NaN     A006   12F   88.0        6.0      NaN   \n",
      "6       NaN   NaN    NaN        NaN     A007   12G   86.0        7.0      NaN   \n",
      "7       NaN   NaN    NaN        NaN     A008   12H   85.0        8.0      NaN   \n",
      "8       NaN   NaN    NaN        NaN      NaN   NaN    NaN        NaN     A009   \n",
      "9       NaN   NaN    NaN        NaN      NaN   NaN    NaN        NaN     A010   \n",
      "10      NaN   NaN    NaN        NaN      NaN   NaN    NaN        NaN     A011   \n",
      "11      NaN   NaN    NaN        NaN      NaN   NaN    NaN        NaN     A012   \n",
      "\n",
      "   Kelas  Nilai  Peringkat  \n",
      "0    NaN    NaN        NaN  \n",
      "1    NaN    NaN        NaN  \n",
      "2    NaN    NaN        NaN  \n",
      "3    NaN    NaN        NaN  \n",
      "4    NaN    NaN        NaN  \n",
      "5    NaN    NaN        NaN  \n",
      "6    NaN    NaN        NaN  \n",
      "7    NaN    NaN        NaN  \n",
      "8    12I   80.0        9.0  \n",
      "9    12J   75.0       10.0  \n",
      "10   12K   73.0       11.0  \n",
      "11   12L   70.0       12.0  \n"
     ]
    }
   ],
   "source": [
    "# Penggabungan dengan concat\n",
    "\n",
    "import pandas as pd\n",
    "import numpy as np\n",
    "\n",
    "df1 = pd.DataFrame({'id_siswa': ['A001', 'A002', 'A003', 'A004'],\n",
    "                            'Kelas': ['12A', '12B', '12C', '12D'],\n",
    "                            'Nilai': [100, 98, 96, 95 ],\n",
    "                            'Peringkat': [1, 2, 3, 4]},\n",
    "                             index=[0, 1, 2, 3])\n",
    "\n",
    "df2 = pd.DataFrame({'id_siswa': ['A005', 'A006', 'A007', 'A008'],\n",
    "                            'Kelas': ['12E', '12F', '12G', '12H'],\n",
    "                            'Nilai': [90, 88, 86, 85 ],\n",
    "                            'Peringkat': [5, 6, 7, 8]},\n",
    "                             index=[4, 5, 6, 7])\n",
    "\n",
    "df3 = pd.DataFrame({'id_siswa': ['A009', 'A010', 'A011', 'A012'],\n",
    "                            'Kelas': ['12I', '12J', '12K', '12L'],\n",
    "                            'Nilai': [80, 75, 73, 70 ],\n",
    "                            'Peringkat': [9, 10, 11, 12]},\n",
    "                             index=[8, 9, 10, 11])\n",
    "\n",
    "concat_ = pd.concat([df1, df2, df3])\n",
    "print(concat_)\n",
    "\n",
    "#concat berdasarkan kolom\n",
    "\n",
    "concat_column = pd.concat([df1, df2, df3], axis=1)\n",
    "print(concat_column)"
   ]
  },
  {
   "cell_type": "markdown",
   "metadata": {},
   "source": [
    "# Penggabungan Method Merge"
   ]
  },
  {
   "cell_type": "code",
   "execution_count": 10,
   "metadata": {},
   "outputs": [
    {
     "name": "stdout",
     "output_type": "stream",
     "text": [
      "Full Outer Join\n",
      "data pertama\n",
      "=========\n",
      "  id_siswa Kelas  Tinggi siswa (cm)\n",
      "0     A001   12A                155\n",
      "1     A002   12B                160\n",
      "2     A003   12C                170\n",
      "3     A004   12D                165\n",
      "data kedua\n",
      "=========\n",
      "  id_siswa  Nilai  Peringkat\n",
      "4     A001    100          1\n",
      "5     A002     98          2\n",
      "6     A005     96          3\n",
      "7     A006     95          4\n",
      "  id_siswa Kelas  Tinggi siswa (cm)  Nilai  Peringkat\n",
      "0     A001   12A              155.0  100.0        1.0\n",
      "1     A002   12B              160.0   98.0        2.0\n",
      "2     A003   12C              170.0    NaN        NaN\n",
      "3     A004   12D              165.0    NaN        NaN\n",
      "4     A005   NaN                NaN   96.0        3.0\n",
      "5     A006   NaN                NaN   95.0        4.0\n"
     ]
    }
   ],
   "source": [
    "print(\"Full Outer Join\")\n",
    "\n",
    "df1 = pd.DataFrame({'id_siswa': ['A001', 'A002', 'A003', 'A004'],\n",
    "                    'Kelas': ['12A', '12B', '12C', '12D'],\n",
    "                    'Tinggi siswa (cm)': [155, 160, 170, 165 ]},\n",
    "                     index=[0, 1, 2, 3])\n",
    "df2 = pd.DataFrame({'id_siswa': ['A001', 'A002', 'A005', 'A006'],\n",
    "                    'Nilai': [100, 98, 96, 95 ],\n",
    "                    'Peringkat': [1, 2, 3, 4]},\n",
    "                     index=[4, 5, 6, 7])\n",
    "\n",
    "print('data pertama')\n",
    "print('=========')\n",
    "print(df1)\n",
    "print('data kedua')\n",
    "print('=========')\n",
    "print(df2)\n",
    "\n",
    "merge_full_outer = pd.merge(df1, df2, on='id_siswa', how='outer')\n",
    "\n",
    "print(merge_full_outer)"
   ]
  },
  {
   "cell_type": "code",
   "execution_count": 11,
   "metadata": {},
   "outputs": [
    {
     "name": "stdout",
     "output_type": "stream",
     "text": [
      "Inner Join\n",
      "  id_siswa Kelas  Tinggi siswa (cm)  Nilai  Peringkat\n",
      "0     A001   12A                155    100          1\n",
      "1     A002   12B                160     98          2\n"
     ]
    }
   ],
   "source": [
    "print(\"Inner Join\")\n",
    "\n",
    "merge_inner_join = pd.merge(df1,df2, on='id_siswa', how='inner')\n",
    "print(merge_inner_join)"
   ]
  },
  {
   "cell_type": "code",
   "execution_count": 13,
   "metadata": {},
   "outputs": [
    {
     "name": "stdout",
     "output_type": "stream",
     "text": [
      "Left Join\n",
      "  id_siswa Kelas  Tinggi siswa (cm)  Nilai  Peringkat\n",
      "0     A001   12A                155  100.0        1.0\n",
      "1     A002   12B                160   98.0        2.0\n",
      "2     A003   12C                170    NaN        NaN\n",
      "3     A004   12D                165    NaN        NaN\n"
     ]
    }
   ],
   "source": [
    "print(\"Left Join\")\n",
    "\n",
    "merge_left_join = pd.merge(df1,df2, on='id_siswa', how='left')\n",
    "print(merge_left_join)"
   ]
  },
  {
   "cell_type": "code",
   "execution_count": 14,
   "metadata": {},
   "outputs": [
    {
     "name": "stdout",
     "output_type": "stream",
     "text": [
      "Right Join\n",
      "  id_siswa Kelas  Tinggi siswa (cm)  Nilai  Peringkat\n",
      "0     A001   12A              155.0    100          1\n",
      "1     A002   12B              160.0     98          2\n",
      "2     A005   NaN                NaN     96          3\n",
      "3     A006   NaN                NaN     95          4\n"
     ]
    }
   ],
   "source": [
    "print('Right Join')\n",
    "\n",
    "merge_right_join = pd.merge(df1,df2, on='id_siswa', how='right')\n",
    "print(merge_right_join)"
   ]
  },
  {
   "cell_type": "markdown",
   "metadata": {},
   "source": [
    "# Data Grouping"
   ]
  },
  {
   "cell_type": "code",
   "execution_count": 1,
   "metadata": {},
   "outputs": [
    {
     "name": "stdout",
     "output_type": "stream",
     "text": [
      "Data Grouping\n"
     ]
    },
    {
     "ename": "NameError",
     "evalue": "name 'pd' is not defined",
     "output_type": "error",
     "traceback": [
      "\u001b[1;31m---------------------------------------------------------------------------\u001b[0m",
      "\u001b[1;31mNameError\u001b[0m                                 Traceback (most recent call last)",
      "Cell \u001b[1;32mIn [1], line 3\u001b[0m\n\u001b[0;32m      1\u001b[0m \u001b[39mprint\u001b[39m(\u001b[39m\"\u001b[39m\u001b[39mData Grouping\u001b[39m\u001b[39m\"\u001b[39m)\n\u001b[1;32m----> 3\u001b[0m df \u001b[39m=\u001b[39m pd\u001b[39m.\u001b[39mDataFrame([(\u001b[39m'\u001b[39m\u001b[39mbird\u001b[39m\u001b[39m'\u001b[39m, \u001b[39m'\u001b[39m\u001b[39mFalconiformes\u001b[39m\u001b[39m'\u001b[39m, \u001b[39m389.0\u001b[39m),\n\u001b[0;32m      4\u001b[0m                            (\u001b[39m'\u001b[39m\u001b[39mbird\u001b[39m\u001b[39m'\u001b[39m, \u001b[39m'\u001b[39m\u001b[39mPsittaciformes\u001b[39m\u001b[39m'\u001b[39m, \u001b[39m24.0\u001b[39m),\n\u001b[0;32m      5\u001b[0m                            (\u001b[39m'\u001b[39m\u001b[39mmammal\u001b[39m\u001b[39m'\u001b[39m, \u001b[39m'\u001b[39m\u001b[39mCarnivora\u001b[39m\u001b[39m'\u001b[39m, \u001b[39m80.2\u001b[39m),\n\u001b[0;32m      6\u001b[0m                            (\u001b[39m'\u001b[39m\u001b[39mmammal\u001b[39m\u001b[39m'\u001b[39m, \u001b[39m'\u001b[39m\u001b[39mPrimates\u001b[39m\u001b[39m'\u001b[39m, np\u001b[39m.\u001b[39mnan),\n\u001b[0;32m      7\u001b[0m                            (\u001b[39m'\u001b[39m\u001b[39mmammal\u001b[39m\u001b[39m'\u001b[39m, \u001b[39m'\u001b[39m\u001b[39mCarnivora\u001b[39m\u001b[39m'\u001b[39m, \u001b[39m58\u001b[39m)],\n\u001b[0;32m      8\u001b[0m                           index\u001b[39m=\u001b[39m[\u001b[39m'\u001b[39m\u001b[39mfalcon\u001b[39m\u001b[39m'\u001b[39m, \u001b[39m'\u001b[39m\u001b[39mparrot\u001b[39m\u001b[39m'\u001b[39m, \u001b[39m'\u001b[39m\u001b[39mlion\u001b[39m\u001b[39m'\u001b[39m, \u001b[39m'\u001b[39m\u001b[39mmonkey\u001b[39m\u001b[39m'\u001b[39m, \u001b[39m'\u001b[39m\u001b[39mleopard\u001b[39m\u001b[39m'\u001b[39m],\n\u001b[0;32m      9\u001b[0m                              columns\u001b[39m=\u001b[39m(\u001b[39m'\u001b[39m\u001b[39mclass\u001b[39m\u001b[39m'\u001b[39m, \u001b[39m'\u001b[39m\u001b[39morder\u001b[39m\u001b[39m'\u001b[39m, \u001b[39m'\u001b[39m\u001b[39mmax_speed\u001b[39m\u001b[39m'\u001b[39m))\n\u001b[0;32m     11\u001b[0m \u001b[39mprint\u001b[39m(df)\n\u001b[0;32m     13\u001b[0m df\u001b[39m.\u001b[39mgroupby(\u001b[39m'\u001b[39m\u001b[39mclass\u001b[39m\u001b[39m'\u001b[39m)\u001b[39m.\u001b[39mmean()\n",
      "\u001b[1;31mNameError\u001b[0m: name 'pd' is not defined"
     ]
    }
   ],
   "source": [
    "print(\"Data Grouping\")\n",
    "\n",
    "df = pd.DataFrame([('bird', 'Falconiformes', 389.0),\n",
    "                           ('bird', 'Psittaciformes', 24.0),\n",
    "                           ('mammal', 'Carnivora', 80.2),\n",
    "                           ('mammal', 'Primates', np.nan),\n",
    "                           ('mammal', 'Carnivora', 58)],\n",
    "                          index=['falcon', 'parrot', 'lion', 'monkey', 'leopard'],\n",
    "                             columns=('class', 'order', 'max_speed'))\n",
    "\n",
    "print(df)\n",
    "\n",
    "df.groupby('class').mean()\n",
    "\n",
    "print(df.groupby(['class', 'order'])[['max_speed']].agg(['mean', 'sum']))"
   ]
  }
 ],
 "metadata": {
  "kernelspec": {
   "display_name": "Python 3.8.15 64-bit",
   "language": "python",
   "name": "python3"
  },
  "language_info": {
   "codemirror_mode": {
    "name": "ipython",
    "version": 3
   },
   "file_extension": ".py",
   "mimetype": "text/x-python",
   "name": "python",
   "nbconvert_exporter": "python",
   "pygments_lexer": "ipython3",
   "version": "3.8.15"
  },
  "orig_nbformat": 4,
  "vscode": {
   "interpreter": {
    "hash": "b332bee1bdf7e3c17a182bc2627a7e449fad881a03115aa78f81cf97d7553709"
   }
  }
 },
 "nbformat": 4,
 "nbformat_minor": 2
}

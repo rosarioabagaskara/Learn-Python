{
 "cells": [
  {
   "cell_type": "markdown",
   "metadata": {},
   "source": [
    "# Indexing Series\n"
   ]
  },
  {
   "cell_type": "code",
   "execution_count": 11,
   "metadata": {},
   "outputs": [
    {
     "name": "stdout",
     "output_type": "stream",
     "text": [
      "a    1\n",
      "b    2\n",
      "c    3\n",
      "d    4\n",
      "e    5\n",
      "dtype: int64\n",
      "Index(['a', 'b', 'c', 'd', 'e'], dtype='object')\n",
      "[1 2 3 4 5]\n"
     ]
    },
    {
     "data": {
      "text/plain": [
       "True"
      ]
     },
     "execution_count": 11,
     "metadata": {},
     "output_type": "execute_result"
    }
   ],
   "source": [
    "# Series as Dictionary\n",
    "import pandas\n",
    "\n",
    "series_ = pandas.Series([1,2,3,4,5], index=['a','b', 'c', 'd', 'e'])\n",
    "\n",
    "\n",
    "print(series_)\n",
    "#indexing keys\n",
    "print(series_.keys())\n",
    "#indexing value\n",
    "print(series_.values)\n",
    "\n",
    "# check value\n",
    "'c' in series_"
   ]
  },
  {
   "cell_type": "code",
   "execution_count": 20,
   "metadata": {},
   "outputs": [
    {
     "name": "stdout",
     "output_type": "stream",
     "text": [
      "a    1\n",
      "b    2\n",
      "c    3\n",
      "d    4\n",
      "dtype: int64\n",
      "a    1\n",
      "b    2\n",
      "dtype: int64\n",
      "e    5\n",
      "dtype: int64\n"
     ]
    }
   ],
   "source": [
    "# Series as Array\n",
    "# slicing explicit index\n",
    "print(series_['a':'d'])\n",
    "\n",
    "#slicing implicit index\n",
    "print(series_[0:2])\n",
    "\n",
    "# Indexing with filtering\n",
    "print(series_[series_ > 4])"
   ]
  },
  {
   "cell_type": "markdown",
   "metadata": {},
   "source": [
    "# Indexing Data Frame\n"
   ]
  },
  {
   "cell_type": "code",
   "execution_count": 38,
   "metadata": {},
   "outputs": [
    {
     "name": "stdout",
     "output_type": "stream",
     "text": [
      "  nama_siswa  umur_siswa\n",
      "0      Bagas          20\n",
      "1       Rosa          20\n",
      "2        Rio          20\n",
      "   umur_siswa\n",
      "0          20\n",
      "0    20\n",
      "1    20\n",
      "Name: umur_siswa, dtype: int64\n"
     ]
    }
   ],
   "source": [
    "df_ = pandas.DataFrame({'nama_siswa' : ['Bagas', 'Rosa', 'Rio'], 'umur_siswa' : [20, 20, 20]})\n",
    "\n",
    "print(df_)\n",
    "\n",
    "print(df_.iloc[:1 , 1:2])\n",
    "\n",
    "print(df_.loc[:1, 'umur_siswa'])"
   ]
  }
 ],
 "metadata": {
  "kernelspec": {
   "display_name": "Python 3.8.15 64-bit",
   "language": "python",
   "name": "python3"
  },
  "language_info": {
   "codemirror_mode": {
    "name": "ipython",
    "version": 3
   },
   "file_extension": ".py",
   "mimetype": "text/x-python",
   "name": "python",
   "nbconvert_exporter": "python",
   "pygments_lexer": "ipython3",
   "version": "3.8.15"
  },
  "orig_nbformat": 4,
  "vscode": {
   "interpreter": {
    "hash": "b332bee1bdf7e3c17a182bc2627a7e449fad881a03115aa78f81cf97d7553709"
   }
  }
 },
 "nbformat": 4,
 "nbformat_minor": 2
}

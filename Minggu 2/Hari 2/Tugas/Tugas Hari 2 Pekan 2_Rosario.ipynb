{
  "cells": [
    {
      "cell_type": "code",
      "execution_count": 2,
      "metadata": {
        "colab": {
          "base_uri": "https://localhost:8080/",
          "height": 423
        },
        "id": "qt5hFjS-8sej",
        "outputId": "dc31d2f3-8c9c-4830-b169-05bd80ed4660"
      },
      "outputs": [
        {
          "data": {
            "text/html": [
              "<div>\n",
              "<style scoped>\n",
              "    .dataframe tbody tr th:only-of-type {\n",
              "        vertical-align: middle;\n",
              "    }\n",
              "\n",
              "    .dataframe tbody tr th {\n",
              "        vertical-align: top;\n",
              "    }\n",
              "\n",
              "    .dataframe thead th {\n",
              "        text-align: right;\n",
              "    }\n",
              "</style>\n",
              "<table border=\"1\" class=\"dataframe\">\n",
              "  <thead>\n",
              "    <tr style=\"text-align: right;\">\n",
              "      <th></th>\n",
              "      <th>gender</th>\n",
              "      <th>parental level of education</th>\n",
              "      <th>test preparation course</th>\n",
              "      <th>nilai</th>\n",
              "    </tr>\n",
              "  </thead>\n",
              "  <tbody>\n",
              "    <tr>\n",
              "      <th>0</th>\n",
              "      <td>male</td>\n",
              "      <td>some college</td>\n",
              "      <td>none</td>\n",
              "      <td>43</td>\n",
              "    </tr>\n",
              "    <tr>\n",
              "      <th>1</th>\n",
              "      <td>male</td>\n",
              "      <td>some high school</td>\n",
              "      <td>completed</td>\n",
              "      <td>77</td>\n",
              "    </tr>\n",
              "    <tr>\n",
              "      <th>2</th>\n",
              "      <td>male</td>\n",
              "      <td>some college</td>\n",
              "      <td>completed</td>\n",
              "      <td>83</td>\n",
              "    </tr>\n",
              "    <tr>\n",
              "      <th>3</th>\n",
              "      <td>male</td>\n",
              "      <td>bachelor degree</td>\n",
              "      <td>completed</td>\n",
              "      <td>83</td>\n",
              "    </tr>\n",
              "    <tr>\n",
              "      <th>4</th>\n",
              "      <td>female</td>\n",
              "      <td>bachelor degree</td>\n",
              "      <td>none</td>\n",
              "      <td>73</td>\n",
              "    </tr>\n",
              "    <tr>\n",
              "      <th>...</th>\n",
              "      <td>...</td>\n",
              "      <td>...</td>\n",
              "      <td>...</td>\n",
              "      <td>...</td>\n",
              "    </tr>\n",
              "    <tr>\n",
              "      <th>95</th>\n",
              "      <td>male</td>\n",
              "      <td>high school</td>\n",
              "      <td>none</td>\n",
              "      <td>30</td>\n",
              "    </tr>\n",
              "    <tr>\n",
              "      <th>96</th>\n",
              "      <td>female</td>\n",
              "      <td>high school</td>\n",
              "      <td>none</td>\n",
              "      <td>62</td>\n",
              "    </tr>\n",
              "    <tr>\n",
              "      <th>97</th>\n",
              "      <td>male</td>\n",
              "      <td>high school</td>\n",
              "      <td>none</td>\n",
              "      <td>71</td>\n",
              "    </tr>\n",
              "    <tr>\n",
              "      <th>98</th>\n",
              "      <td>male</td>\n",
              "      <td>associate degree</td>\n",
              "      <td>none</td>\n",
              "      <td>66</td>\n",
              "    </tr>\n",
              "    <tr>\n",
              "      <th>99</th>\n",
              "      <td>male</td>\n",
              "      <td>some college</td>\n",
              "      <td>completed</td>\n",
              "      <td>85</td>\n",
              "    </tr>\n",
              "  </tbody>\n",
              "</table>\n",
              "<p>100 rows × 4 columns</p>\n",
              "</div>"
            ],
            "text/plain": [
              "    gender parental level of education test preparation course  nilai\n",
              "0     male                some college                    none     43\n",
              "1     male            some high school               completed     77\n",
              "2     male                some college               completed     83\n",
              "3     male             bachelor degree               completed     83\n",
              "4   female             bachelor degree                    none     73\n",
              "..     ...                         ...                     ...    ...\n",
              "95    male                 high school                    none     30\n",
              "96  female                 high school                    none     62\n",
              "97    male                 high school                    none     71\n",
              "98    male            associate degree                    none     66\n",
              "99    male                some college               completed     85\n",
              "\n",
              "[100 rows x 4 columns]"
            ]
          },
          "execution_count": 2,
          "metadata": {},
          "output_type": "execute_result"
        }
      ],
      "source": [
        "#data preparation\n",
        "import pandas as pd\n",
        "\n",
        "df = pd.read_csv('Students Performance.csv')\n",
        "\n",
        "df"
      ]
    },
    {
      "cell_type": "markdown",
      "metadata": {
        "id": "IQBqZzEmOvYG"
      },
      "source": [
        "\n",
        "\n",
        "---\n",
        "\n",
        "\n",
        "\n",
        "---\n",
        "\n"
      ]
    },
    {
      "cell_type": "markdown",
      "metadata": {
        "id": "aNoScqypBGr5"
      },
      "source": [
        "<h2>Soal 1: Indexing</h2>\n",
        "\n",
        "1. Lakukan indexing terhadap dataframe untuk mengakses column 'gender' dan 'parental level of education' saja\n",
        "2. Lakukan indexing terhadap dataframe untuk mengakses row 10 sampai 20 beserta column 'test preparation course' dan 'nilai'"
      ]
    },
    {
      "cell_type": "code",
      "execution_count": 9,
      "metadata": {
        "id": "p1u_riDtIthb"
      },
      "outputs": [
        {
          "name": "stdout",
          "output_type": "stream",
          "text": [
            "    gender parental level of education\n",
            "0     male                some college\n",
            "1     male            some high school\n",
            "2     male                some college\n",
            "3     male             bachelor degree\n",
            "4   female             bachelor degree\n",
            "..     ...                         ...\n",
            "95    male                 high school\n",
            "96  female                 high school\n",
            "97    male                 high school\n",
            "98    male            associate degree\n",
            "99    male                some college\n",
            "\n",
            "[100 rows x 2 columns]\n",
            "   test preparation course  nilai\n",
            "10                    none     68\n",
            "11               completed     63\n",
            "12                    none     64\n",
            "13                    none     47\n",
            "14                    none     77\n",
            "15               completed     52\n",
            "16               completed     34\n",
            "17                    none     29\n",
            "18                    none     40\n",
            "19                    none     75\n",
            "20                    none     80\n"
          ]
        }
      ],
      "source": [
        "#code here\n",
        "print(df.iloc[:, :2])\n",
        "\n",
        "print(df.iloc[10:21, -2:])"
      ]
    },
    {
      "cell_type": "markdown",
      "metadata": {
        "id": "57h66nFwJ6Kn"
      },
      "source": [
        "Expected output :\n",
        "\n",
        "poin a:\n",
        "\n",
        "![alt text](https://drive.google.com/uc?id=10IktjvsNtqzhq7H7vrP7wvQTVx5EWJjA)\n",
        "\n",
        "\n",
        "poin b:\n",
        "\n",
        "![alt text](https://drive.google.com/uc?id=1Dc2OdbTATwZRsPC24rSH3citYmfyrVHv)"
      ]
    },
    {
      "cell_type": "markdown",
      "metadata": {
        "id": "Kxwr0vGIO_bE"
      },
      "source": [
        "\n",
        "\n",
        "---\n",
        "\n",
        "\n",
        "\n",
        "---\n",
        "\n"
      ]
    },
    {
      "cell_type": "markdown",
      "metadata": {
        "id": "F55zUl5GBGr_"
      },
      "source": [
        "<h2>Soal 2: Filter DataFrame Dengan Boolean</h2>\n",
        "\n",
        "1. Tampilkan semua data siswa yang level pendidikan orang tuanya 'high school' dan 'bachelor degree'\n",
        "2. Tampilkan semua data siswa yang mempunyai nilai lebih dari 50 dengan test preparation course 'completed'\n",
        "3. Tampilkan semua data siswa yang mempunyai nilai lebih dari 70, berjenis kelamin perempuan dengan test preparation course 'completed'"
      ]
    },
    {
      "cell_type": "code",
      "execution_count": 15,
      "metadata": {
        "id": "gpSzH5s6N3mb"
      },
      "outputs": [
        {
          "name": "stdout",
          "output_type": "stream",
          "text": [
            "    gender parental level of education test preparation course  nilai\n",
            "3     male             bachelor degree               completed     83\n",
            "4   female             bachelor degree                    none     73\n",
            "7   female             bachelor degree                    none     71\n",
            "8   female             bachelor degree                    none     67\n",
            "15  female                 high school               completed     52\n",
            "16  female                 high school               completed     34\n",
            "17  female                 high school                    none     29\n",
            "19  female                 high school                    none     75\n",
            "23    male                 high school                    none     78\n",
            "24    male                 high school                    none     71\n",
            "27  female                 high school               completed     77\n",
            "28    male                 high school               completed     67\n",
            "29    male                 high school                    none     87\n",
            "31    male             bachelor degree                    none     60\n",
            "34  female             bachelor degree                    none     56\n",
            "37  female             bachelor degree               completed     77\n",
            "39  female             bachelor degree               completed     97\n",
            "41    male                 high school                    none     57\n",
            "43    male                 high school                    none     62\n",
            "51  female                 high school                    none     71\n",
            "52  female                 high school                    none     65\n",
            "60  female             bachelor degree                    none     85\n",
            "61    male             bachelor degree                    none     64\n",
            "63    male             bachelor degree                    none     68\n",
            "67    male                 high school                    none     79\n",
            "70    male                 high school                    none     52\n",
            "73  female                 high school                    none     82\n",
            "74    male                 high school               completed     70\n",
            "76    male                 high school                    none     68\n",
            "80    male                 high school                    none     69\n",
            "95    male                 high school                    none     30\n",
            "96  female                 high school                    none     62\n",
            "97    male                 high school                    none     71\n",
            "    gender parental level of education test preparation course  nilai\n",
            "1     male            some high school               completed     77\n",
            "2     male                some college               completed     83\n",
            "3     male             bachelor degree               completed     83\n",
            "5   female               master degree               completed     71\n",
            "6   female                some college               completed     78\n",
            "11  female            some high school               completed     63\n",
            "15  female                 high school               completed     52\n",
            "27  female                 high school               completed     77\n",
            "28    male                 high school               completed     67\n",
            "35    male                some college               completed     94\n",
            "37  female             bachelor degree               completed     77\n",
            "39  female             bachelor degree               completed     97\n",
            "42    male            associate degree               completed     65\n",
            "46  female                some college               completed     71\n",
            "49    male            some high school               completed     80\n",
            "53    male            associate degree               completed     68\n",
            "55  female            associate degree               completed     76\n",
            "58  female               master degree               completed     89\n",
            "62    male            some high school               completed     69\n",
            "64  female                some college               completed     74\n",
            "72  female            associate degree               completed     68\n",
            "74    male                 high school               completed     70\n",
            "75  female                some college               completed     91\n",
            "79    male                some college               completed     67\n",
            "86  female            some high school               completed     66\n",
            "93    male            associate degree               completed     76\n",
            "94  female                some college               completed     78\n",
            "99    male                some college               completed     85\n",
            "    gender parental level of education test preparation course  nilai\n",
            "5   female               master degree               completed     71\n",
            "6   female                some college               completed     78\n",
            "27  female                 high school               completed     77\n",
            "37  female             bachelor degree               completed     77\n",
            "39  female             bachelor degree               completed     97\n",
            "46  female                some college               completed     71\n",
            "55  female            associate degree               completed     76\n",
            "58  female               master degree               completed     89\n",
            "64  female                some college               completed     74\n",
            "75  female                some college               completed     91\n",
            "94  female                some college               completed     78\n"
          ]
        }
      ],
      "source": [
        "#code here\n",
        "print(\"1 ==========================================================\")\n",
        "print(df[(df['parental level of education'] == 'high school') | (df['parental level of education'] == 'bachelor degree')])\n",
        "print(\"2 ==========================================================\")\n",
        "print(df[(df['nilai'] > 50) & (df['test preparation course'] == 'completed')])\n",
        "print(\"3 ==========================================================\")\n",
        "print(df[(df['gender'] == 'female') & (df['nilai'] > 70) & (df['test preparation course'] == 'completed')])\n"
      ]
    },
    {
      "cell_type": "markdown",
      "metadata": {
        "id": "LlAif9svN5G0"
      },
      "source": [
        "Expected output: \n",
        "\n",
        "poin a:(tampilan hanya sebagian)\n",
        "\n",
        "![alt text](https://drive.google.com/uc?id=1UiNs119fMKgPVa1SiIZxojC5iOkW2Ub1)\n",
        "\n",
        "\n",
        "poin b: (tampilan hanya sebagian)\n",
        "\n",
        "![alt text](https://drive.google.com/uc?id=13fc9IaUbwfzLiNgX6jEoLLuUjYli_YJq)\n",
        "\n",
        "poin c:\n",
        "\n",
        "![alt text](https://drive.google.com/uc?id=1SYby1GosYEyMQ26KdGOzvL48cKXpikp1)\n"
      ]
    },
    {
      "cell_type": "markdown",
      "metadata": {
        "id": "B3PIumZlPEjn"
      },
      "source": [
        "\n",
        "\n",
        "---\n",
        "\n",
        "\n",
        "\n",
        "---\n",
        "\n"
      ]
    },
    {
      "cell_type": "markdown",
      "metadata": {
        "id": "6Od6R3H1BGsE"
      },
      "source": [
        "<h2>Soal 3: Data Transformation</h2>\n",
        "\n",
        "lakukan data transformasi terhadap column 'nilai' dengan fungsi transformasi, berikut rumus dari normalisasi\n",
        "\n",
        "![alt text](https://drive.google.com/uc?id=1wed-EbRSTA0JP1ceDp6lcKBqH2yJ4aa3)"
      ]
    },
    {
      "cell_type": "code",
      "execution_count": 64,
      "metadata": {
        "id": "RNnFVJ-AOoh1"
      },
      "outputs": [
        {
          "name": "stdout",
          "output_type": "stream",
          "text": [
            "       nilai\n",
            "0   0.205882\n",
            "1   0.705882\n",
            "2   0.794118\n",
            "3   0.794118\n",
            "4   0.647059\n",
            "..       ...\n",
            "95  0.014706\n",
            "96  0.485294\n",
            "97  0.617647\n",
            "98  0.544118\n",
            "99  0.823529\n",
            "\n",
            "[100 rows x 1 columns]\n"
          ]
        }
      ],
      "source": [
        "#code here\n",
        "\n",
        "def normalisasi(data):\n",
        "    result = (data - data.min()) / (data.max() - data.min())\n",
        "    return result\n",
        "\n",
        "print(df[['nilai']].apply(normalisasi))\n"
      ]
    },
    {
      "cell_type": "markdown",
      "metadata": {
        "id": "6FYWaSjKPGeT"
      },
      "source": [
        "\n",
        "\n",
        "---\n",
        "\n",
        "\n",
        "\n",
        "---\n",
        "\n"
      ]
    }
  ],
  "metadata": {
    "colab": {
      "collapsed_sections": [],
      "name": "Tugas Hari 2 Pekan 2.ipynb",
      "provenance": []
    },
    "kernelspec": {
      "display_name": "Python 3.8.15 64-bit",
      "language": "python",
      "name": "python3"
    },
    "language_info": {
      "codemirror_mode": {
        "name": "ipython",
        "version": 3
      },
      "file_extension": ".py",
      "mimetype": "text/x-python",
      "name": "python",
      "nbconvert_exporter": "python",
      "pygments_lexer": "ipython3",
      "version": "3.8.15"
    },
    "vscode": {
      "interpreter": {
        "hash": "b332bee1bdf7e3c17a182bc2627a7e449fad881a03115aa78f81cf97d7553709"
      }
    }
  },
  "nbformat": 4,
  "nbformat_minor": 0
}

{
 "cells": [
  {
   "cell_type": "markdown",
   "metadata": {},
   "source": [
    "# Deskriptif Statistik Python"
   ]
  },
  {
   "cell_type": "code",
   "execution_count": 11,
   "metadata": {},
   "outputs": [
    {
     "name": "stdout",
     "output_type": "stream",
     "text": [
      "[10, 20, nan, 40, 50]\n",
      "30.0\n",
      "30\n",
      "30.0\n",
      "nan\n",
      "nan\n",
      "30.0\n"
     ]
    }
   ],
   "source": [
    "import math\n",
    "import numpy as np\n",
    "import statistics\n",
    "import scipy.stats\n",
    "\n",
    "x = [10, 20, 30, 40, 50]\n",
    "x_nan = [10, 20, math.nan, 40, 50]\n",
    "\n",
    "print(x_nan)\n",
    "\n",
    "y, y_nan = np.array(x), np.array(x_nan)\n",
    "\n",
    "mean_ = sum(x) / len(x)\n",
    "\n",
    "print(mean_)\n",
    "\n",
    "mean_lib = statistics.mean(x)\n",
    "print(mean_lib)\n",
    "\n",
    "fmean_lib = statistics.fmean(x)\n",
    "print(fmean_lib)\n",
    "\n",
    "mean_lib_nan = statistics.mean(x_nan)\n",
    "print(mean_lib_nan)\n",
    "\n",
    "fmean_lib_nan = statistics.fmean(x_nan)\n",
    "print(fmean_lib_nan)\n",
    "\n",
    "\n",
    "np_nan_mean = np.nanmean(y_nan)\n",
    "print(np_nan_mean)"
   ]
  }
 ],
 "metadata": {
  "kernelspec": {
   "display_name": "Python 3.8.15 64-bit",
   "language": "python",
   "name": "python3"
  },
  "language_info": {
   "codemirror_mode": {
    "name": "ipython",
    "version": 3
   },
   "file_extension": ".py",
   "mimetype": "text/x-python",
   "name": "python",
   "nbconvert_exporter": "python",
   "pygments_lexer": "ipython3",
   "version": "3.8.15"
  },
  "orig_nbformat": 4,
  "vscode": {
   "interpreter": {
    "hash": "b332bee1bdf7e3c17a182bc2627a7e449fad881a03115aa78f81cf97d7553709"
   }
  }
 },
 "nbformat": 4,
 "nbformat_minor": 2
}

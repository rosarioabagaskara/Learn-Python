{
 "cells": [
  {
   "cell_type": "markdown",
   "metadata": {},
   "source": [
    "# List"
   ]
  },
  {
   "cell_type": "code",
   "execution_count": 16,
   "metadata": {},
   "outputs": [
    {
     "name": "stdout",
     "output_type": "stream",
     "text": [
      "[37, 36, 37]\n",
      "[[37, 36, 37], [37, 37, 37]]\n"
     ]
    }
   ],
   "source": [
    "suhuTubuhAyah = 37\n",
    "SuhuTubuhIbu = 36\n",
    "suhuTubuhAnak = 37\n",
    "\n",
    "suhuTubuhKeluarga = [suhuTubuhAyah, SuhuTubuhIbu, suhuTubuhAnak]\n",
    "\n",
    "print(suhuTubuhKeluarga)\n",
    "\n",
    "suhuTubuhKeluargaUcup = [37, 37, 37]\n",
    "\n",
    "suhuTubuh2Keluarga = [suhuTubuhKeluarga, suhuTubuhKeluargaUcup]\n",
    "\n",
    "print(suhuTubuh2Keluarga)"
   ]
  },
  {
   "cell_type": "markdown",
   "metadata": {},
   "source": [
    "# Manipulasi List"
   ]
  },
  {
   "cell_type": "code",
   "execution_count": 29,
   "metadata": {},
   "outputs": [
    {
     "name": "stdout",
     "output_type": "stream",
     "text": [
      "[33, 36, 34]\n",
      "[33, 33, 34]\n",
      "['gretha', 'bagas', 'tayo']\n",
      "['gretha', 'bagas', 'tayo', 'mois']\n",
      "['gretha', 'morris', 'bagas', 'tayo', 'mois']\n",
      "['gretha', 'morris', 'bagas', 'tayo']\n",
      "['morris', 'bagas']\n",
      "['morris']\n"
     ]
    }
   ],
   "source": [
    "from multiprocessing.pool import MapResult\n",
    "\n",
    "\n",
    "suhuTubuhKeluargaUcup[-2:] = [36, 34]\n",
    "print(suhuTubuhKeluargaUcup)\n",
    "\n",
    "suhuTubuhKeluargaUcup[1:3] = [33, 34]\n",
    "print(suhuTubuhKeluargaUcup)\n",
    "\n",
    "murid = [\"gretha\", \"bagas\"]\n",
    "murid.append(\"tayo\")\n",
    "\n",
    "print(murid)\n",
    "\n",
    "murid = murid + [\"mois\"]\n",
    "print(murid)\n",
    "\n",
    "murid.insert(1, \"morris\")\n",
    "print(murid)\n",
    "\n",
    "del(murid[4])\n",
    "print(murid)\n",
    "\n",
    "murid.pop()\n",
    "murid.pop(0)\n",
    "print(murid)\n",
    "\n",
    "murid.remove(\"bagas\")\n",
    "print(murid)"
   ]
  },
  {
   "cell_type": "markdown",
   "metadata": {},
   "source": [
    "# Function in List"
   ]
  },
  {
   "cell_type": "code",
   "execution_count": 33,
   "metadata": {},
   "outputs": [
    {
     "name": "stdout",
     "output_type": "stream",
     "text": [
      "3\n",
      "[36, 37, 37]\n",
      "110\n"
     ]
    }
   ],
   "source": [
    "print(len(suhuTubuhKeluarga))\n",
    "print(sorted(suhuTubuhKeluarga))\n",
    "print(sum(suhuTubuhKeluarga))"
   ]
  },
  {
   "cell_type": "markdown",
   "metadata": {},
   "source": [
    "# Tuple"
   ]
  },
  {
   "cell_type": "code",
   "execution_count": 34,
   "metadata": {},
   "outputs": [
    {
     "name": "stdout",
     "output_type": "stream",
     "text": [
      "(1, 2, 3, 4)\n",
      "1 2 3 4\n"
     ]
    }
   ],
   "source": [
    "tupleValue = (1,2,3,4)\n",
    "\n",
    "a,b,c,d = tupleValue\n",
    "\n",
    "print(tupleValue)\n",
    "print(a,b,c,d)"
   ]
  },
  {
   "cell_type": "markdown",
   "metadata": {},
   "source": [
    "# Set"
   ]
  },
  {
   "cell_type": "code",
   "execution_count": 39,
   "metadata": {},
   "outputs": [
    {
     "name": "stdout",
     "output_type": "stream",
     "text": [
      "{1, 2, 5}\n",
      "{2, 5}\n",
      "{9, 2, 5}\n",
      "{2, 5, 6, 7, 9}\n"
     ]
    }
   ],
   "source": [
    "setValue = {1, 1, 2, 5}\n",
    "print(setValue)\n",
    "\n",
    "setValue.remove(1)\n",
    "print(setValue)\n",
    "\n",
    "setValue.add(9)\n",
    "print(setValue)\n",
    "\n",
    "setValue.update([5,6,7])\n",
    "print(setValue)"
   ]
  },
  {
   "cell_type": "markdown",
   "metadata": {},
   "source": [
    "# Set Operation"
   ]
  },
  {
   "cell_type": "code",
   "execution_count": 45,
   "metadata": {},
   "outputs": [
    {
     "name": "stdout",
     "output_type": "stream",
     "text": [
      "Union\n",
      "{1, 2, 3, 4, 5, 6}\n",
      "{1, 2, 3, 4, 5, 6}\n",
      "Intersection\n",
      "{3, 4}\n",
      "{3, 4}\n",
      "Difference\n",
      "{1, 2}\n",
      "{1, 2}\n",
      "Symetric DIfference\n",
      "{1, 2, 5, 6}\n",
      "{1, 2, 5, 6}\n"
     ]
    }
   ],
   "source": [
    "setA = {1,2,3,4}\n",
    "setB = {3,4,5,6}\n",
    "\n",
    "# Union\n",
    "print(\"Union\")\n",
    "print(setA|setB)\n",
    "print(setA.union(setB))\n",
    "\n",
    "# Intersection\n",
    "print(\"Intersection\")\n",
    "print(setA&setB)\n",
    "print(setA.intersection(setB))\n",
    "\n",
    "# Difference\n",
    "print(\"Difference\")\n",
    "print(setA-setB)\n",
    "print(setA.difference(setB))\n",
    "\n",
    "# Symetric Difference\n",
    "print(\"Symetric DIfference\")\n",
    "print(setA^setB)\n",
    "print(setA.symmetric_difference(setB))\n"
   ]
  },
  {
   "cell_type": "markdown",
   "metadata": {},
   "source": [
    "# Dictionary"
   ]
  },
  {
   "cell_type": "code",
   "execution_count": 56,
   "metadata": {},
   "outputs": [
    {
     "name": "stdout",
     "output_type": "stream",
     "text": [
      "{'One': 1, 'Two': 2}\n",
      "1\n",
      "One = 1\n",
      "Two = 2\n",
      "1\n",
      "2\n",
      "One = 1\n",
      "Two = 2\n",
      "True\n"
     ]
    }
   ],
   "source": [
    "dictionaryValue = {'One' : 1, 'Two' : 2}\n",
    "\n",
    "print(dictionaryValue)\n",
    "print(dictionaryValue['One'])\n",
    "\n",
    "for i in dictionaryValue:\n",
    "    print(\"{} = {}\".format(i, dictionaryValue[i]))\n",
    "\n",
    "for i in dictionaryValue.values():\n",
    "    print(i)\n",
    "\n",
    "for key, values in dictionaryValue.items():\n",
    "    print(\"{} = {}\".format(key, values))\n",
    "\n",
    "print('One' in dictionaryValue)\n",
    "\n"
   ]
  }
 ],
 "metadata": {
  "kernelspec": {
   "display_name": "Python 3.8.15 64-bit",
   "language": "python",
   "name": "python3"
  },
  "language_info": {
   "codemirror_mode": {
    "name": "ipython",
    "version": 3
   },
   "file_extension": ".py",
   "mimetype": "text/x-python",
   "name": "python",
   "nbconvert_exporter": "python",
   "pygments_lexer": "ipython3",
   "version": "3.8.15"
  },
  "orig_nbformat": 4,
  "vscode": {
   "interpreter": {
    "hash": "b332bee1bdf7e3c17a182bc2627a7e449fad881a03115aa78f81cf97d7553709"
   }
  }
 },
 "nbformat": 4,
 "nbformat_minor": 2
}

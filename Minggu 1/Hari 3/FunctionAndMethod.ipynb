{
 "cells": [
  {
   "cell_type": "markdown",
   "metadata": {},
   "source": [
    "# Function and Method\n"
   ]
  },
  {
   "cell_type": "code",
   "execution_count": 10,
   "metadata": {},
   "outputs": [
    {
     "name": "stdout",
     "output_type": "stream",
     "text": [
      "Help on built-in function len in module builtins:\n",
      "\n",
      "len(obj, /)\n",
      "    Return the number of items in a container.\n",
      "\n",
      "Help on built-in function sum in module builtins:\n",
      "\n",
      "sum(iterable, /, start=0)\n",
      "    Return the sum of a 'start' value (default: 0) plus an iterable of numbers\n",
      "    \n",
      "    When the iterable is empty, return the start value.\n",
      "    This function is intended specifically for use with numeric values and may\n",
      "    reject non-numeric types.\n",
      "\n",
      "Help on built-in function abs in module builtins:\n",
      "\n",
      "abs(x, /)\n",
      "    Return the absolute value of the argument.\n",
      "\n",
      "1.2\n"
     ]
    },
    {
     "data": {
      "text/plain": [
       "4"
      ]
     },
     "execution_count": 10,
     "metadata": {},
     "output_type": "execute_result"
    }
   ],
   "source": [
    "# help\n",
    "\n",
    "help(len)\n",
    "help(sum)\n",
    "help(abs)\n",
    "\n",
    "listObj = [1,2,3,4]\n",
    "\n",
    "len(listObj)"
   ]
  },
  {
   "cell_type": "markdown",
   "metadata": {},
   "source": [
    "# Function"
   ]
  },
  {
   "cell_type": "code",
   "execution_count": 14,
   "metadata": {},
   "outputs": [
    {
     "name": "stdout",
     "output_type": "stream",
     "text": [
      "1\n"
     ]
    }
   ],
   "source": [
    "def least_difference(a,b,c):\n",
    "    diff1 = abs(a-b)\n",
    "    diff2 = abs(a-c)\n",
    "    diff3 = abs(b-c)\n",
    "    return min(diff1, diff2, diff3)\n",
    "\n",
    "print(least_difference(10,2,3))"
   ]
  },
  {
   "cell_type": "markdown",
   "metadata": {},
   "source": [
    "# Default Parameter"
   ]
  },
  {
   "cell_type": "code",
   "execution_count": 18,
   "metadata": {},
   "outputs": [
    {
     "name": "stdout",
     "output_type": "stream",
     "text": [
      "Hello, Colion\n",
      "Hello, Bagas\n"
     ]
    }
   ],
   "source": [
    "def greet(who=\"Colion\"):\n",
    "    return(f\"Hello, {who}\")\n",
    "\n",
    "print(greet())\n",
    "print(greet(\"Bagas\"))"
   ]
  },
  {
   "cell_type": "markdown",
   "metadata": {},
   "source": [
    "# Arbitary Parameter"
   ]
  },
  {
   "cell_type": "code",
   "execution_count": 28,
   "metadata": {},
   "outputs": [
    {
     "name": "stdout",
     "output_type": "stream",
     "text": [
      "Bagas\n",
      "Tegar\n",
      "Abram\n",
      "nama: Bagas\n",
      "umur: 25\n"
     ]
    }
   ],
   "source": [
    "#Args\n",
    "\n",
    "def contoh_args(*value):\n",
    "    for i in value:\n",
    "        print(i)\n",
    "\n",
    "contoh_args(\"Bagas\", \"Tegar\", \"Abram\")\n",
    "\n",
    "#Kwargs\n",
    "\n",
    "def contoh_kwargs(**value):\n",
    "    for key, val in value.items():\n",
    "        print(f\"{key}: {val}\")\n",
    "\n",
    "contoh_kwargs(nama = 'Bagas', umur = 25)"
   ]
  },
  {
   "cell_type": "markdown",
   "metadata": {},
   "source": [
    "# Fungsi Lambda"
   ]
  },
  {
   "cell_type": "code",
   "execution_count": 32,
   "metadata": {},
   "outputs": [
    {
     "name": "stdout",
     "output_type": "stream",
     "text": [
      "4\n"
     ]
    }
   ],
   "source": [
    "contoh_lambda = lambda x : x*2\n",
    "\n",
    "print(contoh_lambda(2))"
   ]
  },
  {
   "cell_type": "markdown",
   "metadata": {},
   "source": [
    "# Fungsi Map"
   ]
  },
  {
   "cell_type": "code",
   "execution_count": 37,
   "metadata": {},
   "outputs": [
    {
     "name": "stdout",
     "output_type": "stream",
     "text": [
      "[4, 8, 12, 16]\n",
      "[4, 8, 12, 16]\n"
     ]
    }
   ],
   "source": [
    "data = [1,2,3,4]\n",
    "\n",
    "def kali_4(x):\n",
    "    return x*4\n",
    "\n",
    "hasil = list(map(kali_4, data))\n",
    "\n",
    "print(hasil)\n",
    "\n",
    "#Map using lambda\n",
    "\n",
    "hasil1 = list(map(lambda x:x*4, data))\n",
    "print(hasil1)"
   ]
  },
  {
   "cell_type": "code",
   "execution_count": null,
   "metadata": {},
   "outputs": [],
   "source": []
  }
 ],
 "metadata": {
  "kernelspec": {
   "display_name": "Python 3.8.15 64-bit",
   "language": "python",
   "name": "python3"
  },
  "language_info": {
   "codemirror_mode": {
    "name": "ipython",
    "version": 3
   },
   "file_extension": ".py",
   "mimetype": "text/x-python",
   "name": "python",
   "nbconvert_exporter": "python",
   "pygments_lexer": "ipython3",
   "version": "3.8.15"
  },
  "orig_nbformat": 4,
  "vscode": {
   "interpreter": {
    "hash": "b332bee1bdf7e3c17a182bc2627a7e449fad881a03115aa78f81cf97d7553709"
   }
  }
 },
 "nbformat": 4,
 "nbformat_minor": 2
}

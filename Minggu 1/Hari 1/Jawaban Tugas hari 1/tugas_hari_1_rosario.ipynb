{
 "cells": [
  {
   "cell_type": "markdown",
   "metadata": {
    "id": "37V7ZOpEwt-6"
   },
   "source": [
    "<h2>Soal 1: Hello World to Python</h2>\n",
    "    \n",
    "Print Say Hello World to Python"
   ]
  },
  {
   "cell_type": "code",
   "execution_count": 1,
   "metadata": {
    "id": "YCFjxzUwrIN-"
   },
   "outputs": [
    {
     "name": "stdout",
     "output_type": "stream",
     "text": [
      "Hello World Python\n"
     ]
    }
   ],
   "source": [
    "print(\"Hello World Python\")"
   ]
  },
  {
   "cell_type": "markdown",
   "metadata": {
    "id": "fftihhaUwt_B"
   },
   "source": [
    "Expected Output : \n",
    "\n",
    "Hello World Python"
   ]
  },
  {
   "cell_type": "markdown",
   "metadata": {
    "id": "1aEipc1Swt_C"
   },
   "source": [
    "<h2>Soal 2: Aritmatika di Python </h2>\n",
    "    \n",
    "- Buat statement pertambahan antara 2 number di Python\n",
    "- Buat statement perkurangan antara 2 number di Python\n",
    "- Buat statement perkalian antara 2 number di Python\n",
    "- Buat statement pembagian antara 2 number di Python"
   ]
  },
  {
   "cell_type": "code",
   "execution_count": 2,
   "metadata": {
    "id": "hOlCjZzrwt_D"
   },
   "outputs": [
    {
     "name": "stdout",
     "output_type": "stream",
     "text": [
      "Tambah = 3\n",
      "Kurang = 1\n",
      "Kali = 6\n",
      "Bagi = 2.0\n"
     ]
    }
   ],
   "source": [
    "tambah = 1 + 2\n",
    "kurang = 2 - 1\n",
    "kali = 3 * 2\n",
    "bagi = 4 / 2\n",
    "\n",
    "print(\"Tambah = \"+str(tambah))\n",
    "print(\"Kurang = \"+str(kurang))\n",
    "print(\"Kali = \"+str(kali))\n",
    "print(\"Bagi = \"+str(bagi))"
   ]
  },
  {
   "cell_type": "markdown",
   "metadata": {
    "id": "DgUFNMtZwt_G"
   },
   "source": [
    "<h2>Quiz 3: Assign Variable dan Tipe Data Integer, Float </h2>\n",
    "\n",
    "- Buat suatu variabel a dan b, dimana a dan b adalah nilai bertipe data numeric\n",
    "- Berikan suatu nilai bertipe data integer, hasil pembagian dari a dengan b\n",
    "- Berikan suatu nilai bertipe data float, hasil pembagian dari a dengan b"
   ]
  },
  {
   "cell_type": "code",
   "execution_count": 3,
   "metadata": {
    "id": "Qf8wzMg5wt_H"
   },
   "outputs": [
    {
     "name": "stdout",
     "output_type": "stream",
     "text": [
      "2\n",
      "2.0\n"
     ]
    }
   ],
   "source": [
    "a = 4\n",
    "b = 2\n",
    "\n",
    "bagiInt = int(a/b)\n",
    "bagiFloat = float(a/b)\n",
    "\n",
    "print(bagiInt)\n",
    "print(bagiFloat)"
   ]
  },
  {
   "cell_type": "markdown",
   "metadata": {
    "id": "XmjLgW7Zwt_L"
   },
   "source": [
    "<h2>Soal 4: String Operation </h2>\n",
    "\n",
    "- masukan nama depan kamu kedalam suatu variable firstname\n",
    "- masukan nama belakang kamu kedalam suatu variable lastname\n",
    "- tampilkan suatu kalimat 'Hello sanbercode, saya firstname lastname! saya siap belajar python data science dasar.'"
   ]
  },
  {
   "cell_type": "code",
   "execution_count": 4,
   "metadata": {
    "id": "lSRwZ7xXwt_M"
   },
   "outputs": [
    {
     "name": "stdout",
     "output_type": "stream",
     "text": [
      "Hello sanbercode, saya Rosario Bagaskara! saya siap belajar python data science dasar.\n"
     ]
    }
   ],
   "source": [
    "firstName = \"Rosario\"\n",
    "lastName = \"Bagaskara\"\n",
    "\n",
    "message = f\"Hello sanbercode, saya {firstName} {lastName}! saya siap belajar python data science dasar.\"\n",
    "print(message)"
   ]
  },
  {
   "cell_type": "markdown",
   "metadata": {
    "id": "0ROQJqBXwt_Q"
   },
   "source": [
    "Expected Output :\n",
    "\n",
    "Hello sanbercode, saya Afrida Hafizhatul Ulum! saya siap belajar python data science dasar."
   ]
  },
  {
   "cell_type": "markdown",
   "metadata": {
    "id": "9DaWI8xdwt_Q"
   },
   "source": [
    "<h2>Soal 5: Tipe Data</h2>\n",
    "\n",
    "Lengkapi code di bawah ini untuk menghasilkan output yang sesuai"
   ]
  },
  {
   "cell_type": "code",
   "execution_count": 6,
   "metadata": {
    "id": "wcDbgbjTwt_R"
   },
   "outputs": [
    {
     "name": "stdout",
     "output_type": "stream",
     "text": [
      "usiaku: 25 tahun\n"
     ]
    }
   ],
   "source": [
    "usia = 25\n",
    "kata = 'usiaku: '\n",
    "print(kata + str(usia) + \" tahun\")"
   ]
  },
  {
   "cell_type": "markdown",
   "metadata": {
    "id": "wdVRjDoLwt_V"
   },
   "source": [
    "Expected Output : (sesuai usia masing-masing)\n",
    "\n",
    "usiaku: 28 tahun"
   ]
  }
 ],
 "metadata": {
  "colab": {
   "collapsed_sections": [],
   "name": "Tugas Hari 1.ipynb",
   "provenance": []
  },
  "kernelspec": {
   "display_name": "Python 3.8.15 64-bit",
   "language": "python",
   "name": "python3"
  },
  "language_info": {
   "codemirror_mode": {
    "name": "ipython",
    "version": 3
   },
   "file_extension": ".py",
   "mimetype": "text/x-python",
   "name": "python",
   "nbconvert_exporter": "python",
   "pygments_lexer": "ipython3",
   "version": "3.8.15"
  },
  "vscode": {
   "interpreter": {
    "hash": "b332bee1bdf7e3c17a182bc2627a7e449fad881a03115aa78f81cf97d7553709"
   }
  }
 },
 "nbformat": 4,
 "nbformat_minor": 1
}

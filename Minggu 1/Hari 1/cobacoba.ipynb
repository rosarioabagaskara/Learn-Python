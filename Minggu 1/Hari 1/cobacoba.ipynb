{
 "cells": [
  {
   "cell_type": "markdown",
   "id": "fa81669a",
   "metadata": {},
   "source": [
    "# coba coba\n",
    "\n",
    "\n",
    "tugas_hari_1_rosario.ipynb\n",
    "\n",
    "test markdown\n",
    "\n",
    "\n",
    "``` python\n",
    "def katakan(berita):\n",
    "    \"\"\"Fungsi untuk mengatakan berita\"\"\"\n",
    "    print(berita)\n",
    "```\n",
    "\n"
   ]
  },
  {
   "cell_type": "code",
   "execution_count": 2,
   "id": "f80046c7",
   "metadata": {},
   "outputs": [
    {
     "name": "stdout",
     "output_type": "stream",
     "text": [
      "Hello World\n",
      "Tes 3.8.15\n"
     ]
    }
   ],
   "source": [
    "import numpy as np\n",
    "print(\"Hello World\")\n",
    "print(\"Tes 3.8.15\")"
   ]
  },
  {
   "cell_type": "code",
   "execution_count": 1,
   "id": "19f73c19",
   "metadata": {},
   "outputs": [
    {
     "name": "stdout",
     "output_type": "stream",
     "text": [
      "2 3 4\n",
      "Tidak Berhasil\n",
      "a lebih kecil dari b\n",
      "a lebih kecil dari b\n"
     ]
    }
   ],
   "source": [
    "\n",
    "a,b,c = 2,3,4\n",
    "\n",
    "\n",
    "\n",
    "print(a, b, c)\n",
    "\n",
    "if(a>b):\n",
    "    print(\"Berhasil\")\n",
    "else:\n",
    "    print(\"Tidak Berhasil\")\n",
    "\n",
    "while a <= b:\n",
    "    print(\"a lebih kecil dari b\")\n",
    "    a += 1"
   ]
  },
  {
   "cell_type": "code",
   "execution_count": 12,
   "id": "de6642ca",
   "metadata": {},
   "outputs": [
    {
     "name": "stdout",
     "output_type": "stream",
     "text": [
      "ubah\n",
      "tegar\n",
      "abram\n"
     ]
    }
   ],
   "source": [
    "listData = ['tes', 'tegar', 'abram']\n",
    "\n",
    "listData[0] = \"ubah\"\n",
    "for i in listData:\n",
    "    print(i)"
   ]
  },
  {
   "cell_type": "code",
   "execution_count": 14,
   "id": "bf64137e",
   "metadata": {},
   "outputs": [
    {
     "name": "stdout",
     "output_type": "stream",
     "text": [
      "tes\n",
      "Bagas\n"
     ]
    }
   ],
   "source": [
    "tupleData = {\"tes\", \"Bagas\"}\n",
    "\n",
    "for j in tupleData:\n",
    "    print(j)"
   ]
  },
  {
   "cell_type": "code",
   "execution_count": 26,
   "id": "337c499f",
   "metadata": {},
   "outputs": [
    {
     "name": "stdout",
     "output_type": "stream",
     "text": [
      "Bagas\n"
     ]
    }
   ],
   "source": [
    "dictionaryData = {\"1\":\"Bagas\"}\n",
    "\n",
    "if \"Bagas\" in dictionaryData.values():\n",
    "    print(dictionaryData[\"1\"])"
   ]
  },
  {
   "cell_type": "code",
   "execution_count": 27,
   "id": "d48dca81",
   "metadata": {},
   "outputs": [
    {
     "name": "stdout",
     "output_type": "stream",
     "text": [
      "100\n"
     ]
    }
   ],
   "source": [
    "x = int(100)\n",
    "\n",
    "print(x)"
   ]
  },
  {
   "cell_type": "code",
   "execution_count": 40,
   "id": "e2d783c5",
   "metadata": {},
   "outputs": [
    {
     "name": "stdout",
     "output_type": "stream",
     "text": [
      "Hello Bagas!\n"
     ]
    }
   ],
   "source": [
    "greeting = \"Hello\"\n",
    "name = \"Bagas\"\n",
    "\n",
    "message = greeting+\" \"+name+\"!\"\n",
    "print(message)"
   ]
  },
  {
   "cell_type": "code",
   "execution_count": 48,
   "id": "97aec6e9",
   "metadata": {},
   "outputs": [
    {
     "name": "stdout",
     "output_type": "stream",
     "text": [
      "My Name is Bagas, I am 25 Years Old\n",
      "My Name is Bagas, I am 25 Years Old\n",
      "My Name is Bagas, I am 25 Years Old\n",
      "My Name is Bagas, I am 25 Years Old\n"
     ]
    }
   ],
   "source": [
    "age = 25\n",
    "\n",
    "print(f\"My Name is {name}, I am {age} Years Old\")\n",
    "\n",
    "print(\"My Name is {0}, I am {1} Years Old\".format(name,age))\n",
    "\n",
    "message = f\"My Name is %s, I am %d Years Old\" % (name, age)\n",
    "message1 = f\"My Name is {name}, I am {age} Years Old\"\n",
    "\n",
    "print(message)\n",
    "print(message1)"
   ]
  }
 ],
 "metadata": {
  "kernelspec": {
   "display_name": "Python 3.8.15 64-bit",
   "language": "python",
   "name": "python3"
  },
  "language_info": {
   "codemirror_mode": {
    "name": "ipython",
    "version": 3
   },
   "file_extension": ".py",
   "mimetype": "text/x-python",
   "name": "python",
   "nbconvert_exporter": "python",
   "pygments_lexer": "ipython3",
   "version": "3.8.15"
  },
  "vscode": {
   "interpreter": {
    "hash": "b332bee1bdf7e3c17a182bc2627a7e449fad881a03115aa78f81cf97d7553709"
   }
  }
 },
 "nbformat": 4,
 "nbformat_minor": 5
}

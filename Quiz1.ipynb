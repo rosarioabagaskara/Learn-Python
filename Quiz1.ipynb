{
 "cells": [
  {
   "cell_type": "code",
   "execution_count": 5,
   "metadata": {},
   "outputs": [
    {
     "name": "stdout",
     "output_type": "stream",
     "text": [
      "[1, 2, 3, 4]\n"
     ]
    },
    {
     "data": {
      "text/plain": [
       "dict"
      ]
     },
     "execution_count": 5,
     "metadata": {},
     "output_type": "execute_result"
    }
   ],
   "source": [
    "list_ = [1,2,3,4]\n",
    "dict_ = {'nama': 'bagas', 'umur': 25}\n",
    "set_ = {1,2,2,3,4}\n",
    "\n",
    "set_.up\n",
    "type(dict_)"
   ]
  },
  {
   "cell_type": "code",
   "execution_count": 10,
   "metadata": {},
   "outputs": [
    {
     "name": "stdout",
     "output_type": "stream",
     "text": [
      "93\n",
      "7\n",
      "5\n",
      "0\n",
      "0\n"
     ]
    }
   ],
   "source": [
    "mainan = ['uno', 'remi', 'catur', 'monopoli', 'ludo']\n",
    "\n",
    "def ya():\n",
    "    mainan.append('monopoli')\n",
    "def ayo():\n",
    "    mainan.pop(3)\n",
    "def gak():\n",
    "    mainan.extend(['remi'])\n",
    "def kuy():\n",
    "    mainan.insert(10, 'catur')\n",
    "def gaskeun():\n",
    "    del mainan[0:1]\n",
    "\n",
    "for i in range(100):\n",
    "    ya()\n",
    "for j in range(5):\n",
    "    ayo()\n",
    "for k in range(5):\n",
    "    gak()\n",
    "for l in range(7):\n",
    "    kuy()\n",
    "for m in range(7):\n",
    "    gaskeun()\n",
    "\n",
    "print(mainan.count('monopoli'))\n",
    "print(mainan.count('catur'))\n",
    "print(mainan.count('remi'))\n",
    "print(mainan.count('ludo'))\n",
    "print(mainan.count('uno'))"
   ]
  }
 ],
 "metadata": {
  "kernelspec": {
   "display_name": "Python 3.8.15 64-bit",
   "language": "python",
   "name": "python3"
  },
  "language_info": {
   "codemirror_mode": {
    "name": "ipython",
    "version": 3
   },
   "file_extension": ".py",
   "mimetype": "text/x-python",
   "name": "python",
   "nbconvert_exporter": "python",
   "pygments_lexer": "ipython3",
   "version": "3.8.15"
  },
  "orig_nbformat": 4,
  "vscode": {
   "interpreter": {
    "hash": "b332bee1bdf7e3c17a182bc2627a7e449fad881a03115aa78f81cf97d7553709"
   }
  }
 },
 "nbformat": 4,
 "nbformat_minor": 2
}
